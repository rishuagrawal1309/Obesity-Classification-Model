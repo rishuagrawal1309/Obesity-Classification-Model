{
  "cells": [
    {
      "cell_type": "markdown",
      "metadata": {
        "id": "view-in-github",
        "colab_type": "text"
      },
      "source": [
        "<a href=\"https://colab.research.google.com/github/superv13/Obesity-Classification-Model/blob/main/LightGBM_model.ipynb\" target=\"_parent\"><img src=\"https://colab.research.google.com/assets/colab-badge.svg\" alt=\"Open In Colab\"/></a>"
      ]
    },
    {
      "cell_type": "code",
      "execution_count": 1,
      "metadata": {
        "colab": {
          "base_uri": "https://localhost:8080/"
        },
        "id": "Lzpp4myiK3Wa",
        "outputId": "9a37e7f9-083f-4491-8af9-0d6819f00d11"
      },
      "outputs": [
        {
          "output_type": "stream",
          "name": "stdout",
          "text": [
            "Mounted at /content/drive\n"
          ]
        }
      ],
      "source": [
        "from google.colab import drive\n",
        "drive.mount('/content/drive')"
      ]
    },
    {
      "cell_type": "code",
      "execution_count": 2,
      "metadata": {
        "colab": {
          "base_uri": "https://localhost:8080/"
        },
        "collapsed": true,
        "id": "H9ivxBsNLxgR",
        "outputId": "1dd97551-18c2-4129-a5bb-fa080b579038"
      },
      "outputs": [
        {
          "output_type": "stream",
          "name": "stdout",
          "text": [
            "Collecting optuna\n",
            "  Downloading optuna-4.5.0-py3-none-any.whl.metadata (17 kB)\n",
            "Requirement already satisfied: alembic>=1.5.0 in /usr/local/lib/python3.12/dist-packages (from optuna) (1.17.0)\n",
            "Collecting colorlog (from optuna)\n",
            "  Downloading colorlog-6.10.1-py3-none-any.whl.metadata (11 kB)\n",
            "Requirement already satisfied: numpy in /usr/local/lib/python3.12/dist-packages (from optuna) (2.0.2)\n",
            "Requirement already satisfied: packaging>=20.0 in /usr/local/lib/python3.12/dist-packages (from optuna) (25.0)\n",
            "Requirement already satisfied: sqlalchemy>=1.4.2 in /usr/local/lib/python3.12/dist-packages (from optuna) (2.0.44)\n",
            "Requirement already satisfied: tqdm in /usr/local/lib/python3.12/dist-packages (from optuna) (4.67.1)\n",
            "Requirement already satisfied: PyYAML in /usr/local/lib/python3.12/dist-packages (from optuna) (6.0.3)\n",
            "Requirement already satisfied: Mako in /usr/local/lib/python3.12/dist-packages (from alembic>=1.5.0->optuna) (1.3.10)\n",
            "Requirement already satisfied: typing-extensions>=4.12 in /usr/local/lib/python3.12/dist-packages (from alembic>=1.5.0->optuna) (4.15.0)\n",
            "Requirement already satisfied: greenlet>=1 in /usr/local/lib/python3.12/dist-packages (from sqlalchemy>=1.4.2->optuna) (3.2.4)\n",
            "Requirement already satisfied: MarkupSafe>=0.9.2 in /usr/local/lib/python3.12/dist-packages (from Mako->alembic>=1.5.0->optuna) (3.0.3)\n",
            "Downloading optuna-4.5.0-py3-none-any.whl (400 kB)\n",
            "\u001b[2K   \u001b[90m━━━━━━━━━━━━━━━━━━━━━━━━━━━━━━━━━━━━━━━━\u001b[0m \u001b[32m400.9/400.9 kB\u001b[0m \u001b[31m6.6 MB/s\u001b[0m eta \u001b[36m0:00:00\u001b[0m\n",
            "\u001b[?25hDownloading colorlog-6.10.1-py3-none-any.whl (11 kB)\n",
            "Installing collected packages: colorlog, optuna\n",
            "Successfully installed colorlog-6.10.1 optuna-4.5.0\n"
          ]
        }
      ],
      "source": [
        "!pip install optuna\n"
      ]
    },
    {
      "cell_type": "code",
      "execution_count": 3,
      "metadata": {
        "colab": {
          "base_uri": "https://localhost:8080/"
        },
        "id": "xOpnsOZ7KtPW",
        "outputId": "72d3099d-4f61-4d37-d95a-43a5f7be9542"
      },
      "outputs": [
        {
          "output_type": "stream",
          "name": "stdout",
          "text": [
            "Train shape: (15533, 18)\n",
            "Test shape:  (5225, 17)\n"
          ]
        }
      ],
      "source": [
        "\n",
        "#  OBESITY CLASSIFICATION\n",
        "\n",
        "import pandas as pd\n",
        "import numpy as np\n",
        "import seaborn as sns\n",
        "import matplotlib.pyplot as plt\n",
        "from sklearn.model_selection import train_test_split, StratifiedKFold, cross_val_score\n",
        "from sklearn.preprocessing import LabelEncoder\n",
        "from sklearn.metrics import accuracy_score, classification_report, confusion_matrix\n",
        "from lightgbm import LGBMClassifier, plot_importance\n",
        "import optuna\n",
        "import warnings\n",
        "warnings.filterwarnings('ignore')\n",
        "\n",
        "\n",
        "# Load your dataset\n",
        "\n",
        "train_df = pd.read_csv('/content/drive/MyDrive/MLP/train.csv')\n",
        "test_df  = pd.read_csv('/content/drive/MyDrive/MLP/test.csv')\n",
        "\n",
        "print(f\"Train shape: {train_df.shape}\")\n",
        "print(f\"Test shape:  {test_df.shape}\")\n",
        "\n",
        "# Encode categorical columns\n",
        "\n",
        "categorical_cols = [\n",
        "    'Gender', 'family_history_with_overweight', 'FAVC', 'CAEC',\n",
        "    'SMOKE', 'SCC', 'CALC', 'MTRANS'\n",
        "]\n",
        "\n",
        "le = LabelEncoder()\n",
        "for col in categorical_cols:\n",
        "    train_df[col] = le.fit_transform(train_df[col])\n",
        "    test_df[col]  = le.transform(test_df[col])\n",
        "\n",
        "\n",
        "# Encode target label\n",
        "target_le = LabelEncoder()\n",
        "train_df['WeightCategory'] = target_le.fit_transform(train_df['WeightCategory'])\n",
        "\n",
        "\n",
        "# Define features and target\n",
        "X = train_df.drop(['id', 'WeightCategory'], axis=1)\n",
        "y = train_df['WeightCategory']\n",
        "test = test_df.drop(['id'], axis=1)\n",
        "\n",
        "\n",
        "# Train-test split\n",
        "X_train, X_valid, y_train, y_valid = train_test_split(\n",
        "    X, y, test_size=0.2, random_state=42, stratify=y\n",
        ")\n"
      ]
    },
    {
      "cell_type": "code",
      "execution_count": 4,
      "metadata": {
        "colab": {
          "base_uri": "https://localhost:8080/"
        },
        "collapsed": true,
        "id": "BYnIAf4w7Wkw",
        "outputId": "ff648dea-79d2-413a-f324-3541a6a2563e"
      },
      "outputs": [
        {
          "output_type": "stream",
          "name": "stdout",
          "text": [
            "Name: lightgbm\n",
            "Version: 4.6.0\n",
            "Summary: LightGBM Python-package\n",
            "Home-page: https://github.com/microsoft/LightGBM\n",
            "Author: \n",
            "Author-email: \n",
            "License: The MIT License (MIT)\n",
            "\n",
            " Copyright (c) Microsoft Corporation\n",
            "\n",
            " Permission is hereby granted, free of charge, to any person obtaining a copy\n",
            " of this software and associated documentation files (the \"Software\"), to deal\n",
            " in the Software without restriction, including without limitation the rights\n",
            " to use, copy, modify, merge, publish, distribute, sublicense, and/or sell\n",
            " copies of the Software, and to permit persons to whom the Software is\n",
            " furnished to do so, subject to the following conditions:\n",
            "\n",
            " The above copyright notice and this permission notice shall be included in all\n",
            " copies or substantial portions of the Software.\n",
            "\n",
            " THE SOFTWARE IS PROVIDED \"AS IS\", WITHOUT WARRANTY OF ANY KIND, EXPRESS OR\n",
            " IMPLIED, INCLUDING BUT NOT LIMITED TO THE WARRANTIES OF MERCHANTABILITY,\n",
            " FITNESS FOR A PARTICULAR PURPOSE AND NONINFRINGEMENT. IN NO EVENT SHALL THE\n",
            " AUTHORS OR COPYRIGHT HOLDERS BE LIABLE FOR ANY CLAIM, DAMAGES OR OTHER\n",
            " LIABILITY, WHETHER IN AN ACTION OF CONTRACT, TORT OR OTHERWISE, ARISING FROM,\n",
            " OUT OF OR IN CONNECTION WITH THE SOFTWARE OR THE USE OR OTHER DEALINGS IN THE\n",
            " SOFTWARE.\n",
            "\n",
            "Location: /usr/local/lib/python3.12/dist-packages\n",
            "Requires: numpy, scipy\n",
            "Required-by: \n"
          ]
        }
      ],
      "source": [
        "pip show lightgbm\n"
      ]
    },
    {
      "cell_type": "code",
      "execution_count": null,
      "metadata": {
        "colab": {
          "base_uri": "https://localhost:8080/"
        },
        "collapsed": true,
        "id": "CUirSfXjLPom",
        "outputId": "595484f6-e6fc-4daf-c1bd-4656b007399f"
      },
      "outputs": [
        {
          "output_type": "stream",
          "name": "stderr",
          "text": [
            "[I 2025-10-26 14:54:07,876] A new study created in memory with name: no-name-7af24686-9b7c-48e8-83d2-6328f1bb3db5\n"
          ]
        },
        {
          "output_type": "stream",
          "name": "stdout",
          "text": [
            "\n",
            " Starting Optuna hyperparameter tuning... (may take time)\n"
          ]
        },
        {
          "output_type": "stream",
          "name": "stderr",
          "text": [
            "[I 2025-10-26 14:54:23,749] Trial 0 finished with value: 0.9044093981332475 and parameters: {'learning_rate': 0.0249816047538945, 'n_estimators': 591, 'lambda_l1': 0.012319939418114049, 'lambda_l2': 0.04394633936788146, 'max_depth': 7, 'colsample_bytree': 0.3935967122017216, 'subsample': 0.8116167224336399, 'min_child_samples': 45}. Best is trial 0 with value: 0.9044093981332475.\n",
            "[I 2025-10-26 14:54:37,789] Trial 1 finished with value: 0.9034438364982298 and parameters: {'learning_rate': 0.034044600469728355, 'n_estimators': 542, 'lambda_l1': 0.005205844942958024, 'lambda_l2': 0.05879639408647977, 'max_depth': 13, 'colsample_bytree': 0.4274034664069657, 'subsample': 0.8363649934414201, 'min_child_samples': 17}. Best is trial 0 with value: 0.9044093981332475.\n",
            "[I 2025-10-26 14:54:50,931] Trial 2 finished with value: 0.9047312520115868 and parameters: {'learning_rate': 0.02216968971838151, 'n_estimators': 505, 'lambda_l1': 0.009319450186421156, 'lambda_l2': 0.03164916560792168, 'max_depth': 11, 'colsample_bytree': 0.3836963163912251, 'subsample': 0.8584289297070437, 'min_child_samples': 25}. Best is trial 2 with value: 0.9047312520115868.\n",
            "[I 2025-10-26 14:55:04,631] Trial 3 finished with value: 0.9053749597682652 and parameters: {'learning_rate': 0.02824279936868144, 'n_estimators': 557, 'lambda_l1': 0.006996737821583597, 'lambda_l2': 0.040569377536544465, 'max_depth': 11, 'colsample_bytree': 0.3278702476319986, 'subsample': 0.9215089703802877, 'min_child_samples': 16}. Best is trial 3 with value: 0.9053749597682652.\n",
            "[I 2025-10-26 14:55:19,554] Trial 4 finished with value: 0.9034438364982298 and parameters: {'learning_rate': 0.01260206371941118, 'n_estimators': 590, 'lambda_l1': 0.014656320330745591, 'lambda_l2': 0.05233589392465844, 'max_depth': 8, 'colsample_bytree': 0.35860326840383033, 'subsample': 0.9368466053024314, 'min_child_samples': 28}. Best is trial 3 with value: 0.9053749597682652.\n",
            "[I 2025-10-26 14:55:32,869] Trial 5 finished with value: 0.9053749597682652 and parameters: {'learning_rate': 0.014881529393791153, 'n_estimators': 499, 'lambda_l1': 0.005343885211152184, 'lambda_l2': 0.056372816083151284, 'max_depth': 8, 'colsample_bytree': 0.6975133706123893, 'subsample': 0.8623422152178822, 'min_child_samples': 31}. Best is trial 3 with value: 0.9053749597682652.\n",
            "[I 2025-10-26 14:55:43,887] Trial 6 finished with value: 0.9011908593498552 and parameters: {'learning_rate': 0.03186841117373119, 'n_estimators': 437, 'lambda_l1': 0.014695846277645586, 'lambda_l2': 0.051005312934444574, 'max_depth': 14, 'colsample_bytree': 0.8368964102565895, 'subsample': 0.919579995762217, 'min_child_samples': 47}. Best is trial 3 with value: 0.9053749597682652.\n",
            "[I 2025-10-26 14:55:54,302] Trial 7 finished with value: 0.9060186675249436 and parameters: {'learning_rate': 0.013539700082076781, 'n_estimators': 439, 'lambda_l1': 0.005452272889105381, 'lambda_l2': 0.03301321323053057, 'max_depth': 9, 'colsample_bytree': 0.4628094190643376, 'subsample': 0.9657475018303858, 'min_child_samples': 24}. Best is trial 7 with value: 0.9060186675249436.\n",
            "[I 2025-10-26 14:56:05,061] Trial 8 finished with value: 0.9034438364982298 and parameters: {'learning_rate': 0.02123738038749523, 'n_estimators': 509, 'lambda_l1': 0.006409242249747626, 'lambda_l2': 0.05208787923016159, 'max_depth': 6, 'colsample_bytree': 0.8921321619603104, 'subsample': 0.9544489538593315, 'min_child_samples': 18}. Best is trial 7 with value: 0.9060186675249436.\n",
            "[I 2025-10-26 14:56:19,483] Trial 9 finished with value: 0.899581589958159 and parameters: {'learning_rate': 0.010220884684944096, 'n_estimators': 563, 'lambda_l1': 0.012068573438476171, 'lambda_l2': 0.04916028672163949, 'max_depth': 12, 'colsample_bytree': 0.3444267910404542, 'subsample': 0.8716931457088546, 'min_child_samples': 14}. Best is trial 7 with value: 0.9060186675249436.\n",
            "[I 2025-10-26 14:56:30,213] Trial 10 finished with value: 0.9011908593498552 and parameters: {'learning_rate': 0.04780546176921546, 'n_estimators': 401, 'lambda_l1': 0.008687287727210974, 'lambda_l2': 0.02071847502459279, 'max_depth': 9, 'colsample_bytree': 0.5281757761510865, 'subsample': 0.9941873430341002, 'min_child_samples': 37}. Best is trial 7 with value: 0.9060186675249436.\n",
            "[I 2025-10-26 14:56:42,140] Trial 11 finished with value: 0.9024782748632121 and parameters: {'learning_rate': 0.03978643597802943, 'n_estimators': 461, 'lambda_l1': 0.007460148309668636, 'lambda_l2': 0.03424364893339975, 'max_depth': 10, 'colsample_bytree': 0.5123369175431512, 'subsample': 0.9749257767651432, 'min_child_samples': 11}. Best is trial 7 with value: 0.9060186675249436.\n",
            "[I 2025-10-26 14:56:51,926] Trial 12 finished with value: 0.9008690054715159 and parameters: {'learning_rate': 0.041895064402762444, 'n_estimators': 459, 'lambda_l1': 0.007497575934701025, 'lambda_l2': 0.03594762068568997, 'max_depth': 10, 'colsample_bytree': 0.6166673358180192, 'subsample': 0.9085243271141443, 'min_child_samples': 23}. Best is trial 7 with value: 0.9060186675249436.\n",
            "[I 2025-10-26 14:57:02,295] Trial 13 finished with value: 0.9050531058899259 and parameters: {'learning_rate': 0.026432964574350938, 'n_estimators': 406, 'lambda_l1': 0.0069640452926445365, 'lambda_l2': 0.027070085664804004, 'max_depth': 11, 'colsample_bytree': 0.3010832987886899, 'subsample': 0.9556886124773992, 'min_child_samples': 21}. Best is trial 7 with value: 0.9060186675249436.\n",
            "[I 2025-10-26 14:57:16,333] Trial 14 finished with value: 0.9040875442549082 and parameters: {'learning_rate': 0.01861193099723453, 'n_estimators': 537, 'lambda_l1': 0.006095167191051633, 'lambda_l2': 0.04140148035372102, 'max_depth': 9, 'colsample_bytree': 0.4820677805331348, 'subsample': 0.8915680813366776, 'min_child_samples': 33}. Best is trial 7 with value: 0.9060186675249436.\n",
            "[I 2025-10-26 14:57:27,944] Trial 15 finished with value: 0.899581589958159 and parameters: {'learning_rate': 0.03650564340719314, 'n_estimators': 473, 'lambda_l1': 0.010596613640177445, 'lambda_l2': 0.027136522936573152, 'max_depth': 12, 'colsample_bytree': 0.5980816167455318, 'subsample': 0.998218730716508, 'min_child_samples': 10}. Best is trial 7 with value: 0.9060186675249436.\n",
            "[I 2025-10-26 14:57:38,512] Trial 16 finished with value: 0.9037656903765691 and parameters: {'learning_rate': 0.017787656980248843, 'n_estimators': 432, 'lambda_l1': 0.008204762103541447, 'lambda_l2': 0.04506368820223655, 'max_depth': 11, 'colsample_bytree': 0.450767900867464, 'subsample': 0.9340005876638913, 'min_child_samples': 36}. Best is trial 7 with value: 0.9060186675249436.\n",
            "[I 2025-10-26 14:57:51,146] Trial 17 finished with value: 0.9031219826198905 and parameters: {'learning_rate': 0.028386851269728057, 'n_estimators': 560, 'lambda_l1': 0.010625128570253413, 'lambda_l2': 0.03992577387729766, 'max_depth': 9, 'colsample_bytree': 0.5969974104407182, 'subsample': 0.9667399568291576, 'min_child_samples': 19}. Best is trial 7 with value: 0.9060186675249436.\n",
            "[I 2025-10-26 14:58:03,017] Trial 18 finished with value: 0.899581589958159 and parameters: {'learning_rate': 0.048102361708492414, 'n_estimators': 486, 'lambda_l1': 0.00618335788596269, 'lambda_l2': 0.03836886830643457, 'max_depth': 14, 'colsample_bytree': 0.6922257695064863, 'subsample': 0.8966209109298287, 'min_child_samples': 26}. Best is trial 7 with value: 0.9060186675249436.\n",
            "[I 2025-10-26 14:58:15,192] Trial 19 finished with value: 0.9034438364982298 and parameters: {'learning_rate': 0.030616614872954674, 'n_estimators': 522, 'lambda_l1': 0.008199827447721807, 'lambda_l2': 0.029398485663474413, 'max_depth': 6, 'colsample_bytree': 0.3121237754884637, 'subsample': 0.9334906287210197, 'min_child_samples': 15}. Best is trial 7 with value: 0.9060186675249436.\n",
            "[I 2025-10-26 14:58:28,899] Trial 20 finished with value: 0.9060186675249436 and parameters: {'learning_rate': 0.016575869504399418, 'n_estimators': 441, 'lambda_l1': 0.005122559177935171, 'lambda_l2': 0.022430186521487212, 'max_depth': 8, 'colsample_bytree': 0.5461322535535859, 'subsample': 0.9838412613207461, 'min_child_samples': 43}. Best is trial 7 with value: 0.9060186675249436.\n",
            "[I 2025-10-26 14:58:40,338] Trial 21 finished with value: 0.9069842291599614 and parameters: {'learning_rate': 0.015523389355814949, 'n_estimators': 439, 'lambda_l1': 0.005156739289189594, 'lambda_l2': 0.021710354391083042, 'max_depth': 8, 'colsample_bytree': 0.5128216464173345, 'subsample': 0.9796640798028722, 'min_child_samples': 42}. Best is trial 21 with value: 0.9069842291599614.\n",
            "[I 2025-10-26 14:58:50,243] Trial 22 finished with value: 0.9066623752816222 and parameters: {'learning_rate': 0.01528412504447447, 'n_estimators': 430, 'lambda_l1': 0.005093646244910278, 'lambda_l2': 0.020007171550099494, 'max_depth': 8, 'colsample_bytree': 0.5508324180327571, 'subsample': 0.9823100461503602, 'min_child_samples': 41}. Best is trial 21 with value: 0.9069842291599614.\n",
            "[I 2025-10-26 14:59:00,253] Trial 23 finished with value: 0.9073060830383006 and parameters: {'learning_rate': 0.011023402488426011, 'n_estimators': 425, 'lambda_l1': 0.005933464411168832, 'lambda_l2': 0.023691201980645223, 'max_depth': 7, 'colsample_bytree': 0.6644556067957675, 'subsample': 0.9564949400902174, 'min_child_samples': 50}. Best is trial 23 with value: 0.9073060830383006.\n",
            "[I 2025-10-26 14:59:09,999] Trial 24 finished with value: 0.9002252977148375 and parameters: {'learning_rate': 0.011213059279212801, 'n_estimators': 417, 'lambda_l1': 0.006358921738346059, 'lambda_l2': 0.0240429833944152, 'max_depth': 7, 'colsample_bytree': 0.7280336513358209, 'subsample': 0.9497194350439734, 'min_child_samples': 50}. Best is trial 23 with value: 0.9073060830383006.\n",
            "[I 2025-10-26 14:59:18,455] Trial 25 finished with value: 0.9056968136466045 and parameters: {'learning_rate': 0.02108183331180387, 'n_estimators': 421, 'lambda_l1': 0.005978079159302015, 'lambda_l2': 0.020171280611928688, 'max_depth': 7, 'colsample_bytree': 0.6394940294769046, 'subsample': 0.9820859406924314, 'min_child_samples': 41}. Best is trial 23 with value: 0.9073060830383006.\n",
            "[I 2025-10-26 14:59:28,976] Trial 26 finished with value: 0.9040875442549082 and parameters: {'learning_rate': 0.014803444459172244, 'n_estimators': 455, 'lambda_l1': 0.006953566391069243, 'lambda_l2': 0.02498613191325772, 'max_depth': 7, 'colsample_bytree': 0.7554011101181635, 'subsample': 0.9867678907254372, 'min_child_samples': 50}. Best is trial 23 with value: 0.9073060830383006.\n",
            "[I 2025-10-26 14:59:38,463] Trial 27 finished with value: 0.9053749597682652 and parameters: {'learning_rate': 0.01006528728860781, 'n_estimators': 418, 'lambda_l1': 0.005783609209028676, 'lambda_l2': 0.02911760578310246, 'max_depth': 6, 'colsample_bytree': 0.5612294779099111, 'subsample': 0.971174735883083, 'min_child_samples': 39}. Best is trial 23 with value: 0.9073060830383006.\n",
            "[I 2025-10-26 14:59:48,720] Trial 28 finished with value: 0.9034438364982298 and parameters: {'learning_rate': 0.018531918922180392, 'n_estimators': 480, 'lambda_l1': 0.007980426365470509, 'lambda_l2': 0.023707011506118838, 'max_depth': 8, 'colsample_bytree': 0.6582696135564292, 'subsample': 0.9523753291031123, 'min_child_samples': 46}. Best is trial 23 with value: 0.9073060830383006.\n",
            "[I 2025-10-26 14:59:59,970] Trial 29 finished with value: 0.9044093981332475 and parameters: {'learning_rate': 0.02431041743613676, 'n_estimators': 453, 'lambda_l1': 0.009616951234658581, 'lambda_l2': 0.026257844489574043, 'max_depth': 7, 'colsample_bytree': 0.5702421445915291, 'subsample': 0.9977509876884431, 'min_child_samples': 43}. Best is trial 23 with value: 0.9073060830383006.\n",
            "[I 2025-10-26 15:00:09,962] Trial 30 finished with value: 0.9040875442549082 and parameters: {'learning_rate': 0.015843793379751663, 'n_estimators': 427, 'lambda_l1': 0.012733146767358233, 'lambda_l2': 0.020092320460750247, 'max_depth': 8, 'colsample_bytree': 0.792595847312588, 'subsample': 0.8085490360159283, 'min_child_samples': 47}. Best is trial 23 with value: 0.9073060830383006.\n",
            "[I 2025-10-26 15:00:18,931] Trial 31 finished with value: 0.9060186675249436 and parameters: {'learning_rate': 0.012889420021085028, 'n_estimators': 440, 'lambda_l1': 0.005148182685449923, 'lambda_l2': 0.03253727188338484, 'max_depth': 9, 'colsample_bytree': 0.46165538239656095, 'subsample': 0.9647431858141615, 'min_child_samples': 34}. Best is trial 23 with value: 0.9073060830383006.\n",
            "[I 2025-10-26 15:00:29,803] Trial 32 finished with value: 0.9044093981332475 and parameters: {'learning_rate': 0.014338271085609724, 'n_estimators': 410, 'lambda_l1': 0.00560694238710838, 'lambda_l2': 0.029726800762568478, 'max_depth': 9, 'colsample_bytree': 0.40769737470069006, 'subsample': 0.9430568459374313, 'min_child_samples': 40}. Best is trial 23 with value: 0.9073060830383006.\n",
            "[I 2025-10-26 15:00:41,571] Trial 33 finished with value: 0.9056968136466045 and parameters: {'learning_rate': 0.019904368874888983, 'n_estimators': 447, 'lambda_l1': 0.005013990777645688, 'lambda_l2': 0.022567469391274048, 'max_depth': 8, 'colsample_bytree': 0.49710013777043477, 'subsample': 0.9637304939272776, 'min_child_samples': 44}. Best is trial 23 with value: 0.9073060830383006.\n",
            "[I 2025-10-26 15:00:54,148] Trial 34 finished with value: 0.9056968136466045 and parameters: {'learning_rate': 0.012879095006241655, 'n_estimators': 469, 'lambda_l1': 0.006757911783130882, 'lambda_l2': 0.03139550136006718, 'max_depth': 10, 'colsample_bytree': 0.4336045114916046, 'subsample': 0.8306035953935293, 'min_child_samples': 30}. Best is trial 23 with value: 0.9073060830383006.\n",
            "[I 2025-10-26 15:01:04,119] Trial 35 finished with value: 0.9060186675249436 and parameters: {'learning_rate': 0.022488440168469008, 'n_estimators': 428, 'lambda_l1': 0.0056931717329579724, 'lambda_l2': 0.026499823952443363, 'max_depth': 7, 'colsample_bytree': 0.4812221191499544, 'subsample': 0.9748117297970886, 'min_child_samples': 48}. Best is trial 23 with value: 0.9073060830383006.\n",
            "[I 2025-10-26 15:01:15,445] Trial 36 finished with value: 0.9060186675249436 and parameters: {'learning_rate': 0.02381409789903858, 'n_estimators': 490, 'lambda_l1': 0.007472484504861657, 'lambda_l2': 0.022455759973224527, 'max_depth': 8, 'colsample_bytree': 0.6710821755767543, 'subsample': 0.9821463634209409, 'min_child_samples': 26}. Best is trial 23 with value: 0.9073060830383006.\n",
            "[I 2025-10-26 15:01:26,488] Trial 37 finished with value: 0.8992597360798198 and parameters: {'learning_rate': 0.012165901071607867, 'n_estimators': 446, 'lambda_l1': 0.005543374426610447, 'lambda_l2': 0.03576744600460348, 'max_depth': 6, 'colsample_bytree': 0.37848657010618153, 'subsample': 0.9247814091910914, 'min_child_samples': 42}. Best is trial 23 with value: 0.9073060830383006.\n",
            "[I 2025-10-26 15:01:38,737] Trial 38 finished with value: 0.9063405214032829 and parameters: {'learning_rate': 0.01587094906552917, 'n_estimators': 468, 'lambda_l1': 0.006654412222108941, 'lambda_l2': 0.02484968371156387, 'max_depth': 9, 'colsample_bytree': 0.5749526922361864, 'subsample': 0.9437416233985788, 'min_child_samples': 37}. Best is trial 23 with value: 0.9073060830383006.\n",
            "[I 2025-10-26 15:01:47,161] Trial 39 finished with value: 0.9073060830383006 and parameters: {'learning_rate': 0.017049864730514667, 'n_estimators': 414, 'lambda_l1': 0.00658044921424744, 'lambda_l2': 0.02459285896098985, 'max_depth': 7, 'colsample_bytree': 0.628709712661179, 'subsample': 0.9099210031142632, 'min_child_samples': 38}. Best is trial 23 with value: 0.9073060830383006.\n",
            "[I 2025-10-26 15:01:56,659] Trial 40 finished with value: 0.9082716446733183 and parameters: {'learning_rate': 0.017220044402473402, 'n_estimators': 412, 'lambda_l1': 0.009170570027594992, 'lambda_l2': 0.022223879732558387, 'max_depth': 7, 'colsample_bytree': 0.6287030815216026, 'subsample': 0.9067504463989401, 'min_child_samples': 39}. Best is trial 40 with value: 0.9082716446733183.\n",
            "[I 2025-10-26 15:02:06,161] Trial 41 finished with value: 0.9069842291599614 and parameters: {'learning_rate': 0.017168409559777713, 'n_estimators': 400, 'lambda_l1': 0.009000326691864714, 'lambda_l2': 0.021996815998854637, 'max_depth': 7, 'colsample_bytree': 0.625364572980571, 'subsample': 0.9058703488249443, 'min_child_samples': 39}. Best is trial 40 with value: 0.9082716446733183.\n",
            "[I 2025-10-26 15:02:14,410] Trial 42 finished with value: 0.9044093981332475 and parameters: {'learning_rate': 0.019579312813356932, 'n_estimators': 411, 'lambda_l1': 0.00901751696914532, 'lambda_l2': 0.02233915414770836, 'max_depth': 7, 'colsample_bytree': 0.6352886005282186, 'subsample': 0.8828739502614766, 'min_child_samples': 39}. Best is trial 40 with value: 0.9082716446733183.\n",
            "[I 2025-10-26 15:02:23,497] Trial 43 finished with value: 0.9056968136466045 and parameters: {'learning_rate': 0.016730293630464434, 'n_estimators': 401, 'lambda_l1': 0.010315556274191853, 'lambda_l2': 0.027919949709987964, 'max_depth': 6, 'colsample_bytree': 0.7170905157085299, 'subsample': 0.9071744502656448, 'min_child_samples': 35}. Best is trial 40 with value: 0.9082716446733183.\n",
            "[I 2025-10-26 15:02:32,362] Trial 44 finished with value: 0.9056968136466045 and parameters: {'learning_rate': 0.020898834164955634, 'n_estimators': 418, 'lambda_l1': 0.00952776027371473, 'lambda_l2': 0.0239639899442676, 'max_depth': 7, 'colsample_bytree': 0.6685285893891123, 'subsample': 0.9153961922198083, 'min_child_samples': 32}. Best is trial 40 with value: 0.9082716446733183.\n",
            "[I 2025-10-26 15:02:40,980] Trial 45 finished with value: 0.9044093981332475 and parameters: {'learning_rate': 0.025802637220438247, 'n_estimators': 409, 'lambda_l1': 0.011531382737698909, 'lambda_l2': 0.025461264389799662, 'max_depth': 6, 'colsample_bytree': 0.6097960261436747, 'subsample': 0.8801434671456482, 'min_child_samples': 38}. Best is trial 40 with value: 0.9082716446733183.\n",
            "[I 2025-10-26 15:02:50,969] Trial 46 finished with value: 0.9044093981332475 and parameters: {'learning_rate': 0.022651749190419835, 'n_estimators': 425, 'lambda_l1': 0.013411417723647508, 'lambda_l2': 0.056433099084837, 'max_depth': 7, 'colsample_bytree': 0.6361718267952026, 'subsample': 0.8529486922480882, 'min_child_samples': 45}. Best is trial 40 with value: 0.9082716446733183.\n",
            "[I 2025-10-26 15:02:58,571] Trial 47 finished with value: 0.9044093981332475 and parameters: {'learning_rate': 0.017956626264197965, 'n_estimators': 400, 'lambda_l1': 0.008689715739815806, 'lambda_l2': 0.03053108021710793, 'max_depth': 6, 'colsample_bytree': 0.7599735772876716, 'subsample': 0.904548995230759, 'min_child_samples': 29}. Best is trial 40 with value: 0.9082716446733183.\n",
            "[I 2025-10-26 15:03:11,712] Trial 48 finished with value: 0.9044093981332475 and parameters: {'learning_rate': 0.01227855676385269, 'n_estimators': 573, 'lambda_l1': 0.011306093320253395, 'lambda_l2': 0.021788609134823264, 'max_depth': 8, 'colsample_bytree': 0.5263779726339504, 'subsample': 0.9249805280822735, 'min_child_samples': 48}. Best is trial 40 with value: 0.9082716446733183.\n",
            "[I 2025-10-26 15:03:21,521] Trial 49 finished with value: 0.9063405214032829 and parameters: {'learning_rate': 0.013883302566094113, 'n_estimators': 412, 'lambda_l1': 0.007851735841433075, 'lambda_l2': 0.02801921725943174, 'max_depth': 7, 'colsample_bytree': 0.6950160233883041, 'subsample': 0.8632175602782338, 'min_child_samples': 35}. Best is trial 40 with value: 0.9082716446733183.\n",
            "[I 2025-10-26 15:03:35,619] Trial 50 finished with value: 0.9050531058899259 and parameters: {'learning_rate': 0.034726886428731264, 'n_estimators': 598, 'lambda_l1': 0.009986430469169312, 'lambda_l2': 0.04658446307981037, 'max_depth': 6, 'colsample_bytree': 0.5808452891209672, 'subsample': 0.8905350094088308, 'min_child_samples': 44}. Best is trial 40 with value: 0.9082716446733183.\n",
            "[I 2025-10-26 15:03:45,737] Trial 51 finished with value: 0.9076279369166399 and parameters: {'learning_rate': 0.015195420340055867, 'n_estimators': 426, 'lambda_l1': 0.007204782240568238, 'lambda_l2': 0.020975770038377112, 'max_depth': 8, 'colsample_bytree': 0.5335484959534703, 'subsample': 0.9017454132535582, 'min_child_samples': 41}. Best is trial 40 with value: 0.9082716446733183.\n",
            "[I 2025-10-26 15:03:55,399] Trial 52 finished with value: 0.9066623752816222 and parameters: {'learning_rate': 0.017121611061377606, 'n_estimators': 437, 'lambda_l1': 0.008647323498782672, 'lambda_l2': 0.02132376184231309, 'max_depth': 7, 'colsample_bytree': 0.6210207521270787, 'subsample': 0.9130738721600906, 'min_child_samples': 37}. Best is trial 40 with value: 0.9082716446733183.\n",
            "[I 2025-10-26 15:04:06,834] Trial 53 finished with value: 0.9060186675249436 and parameters: {'learning_rate': 0.011412768985291461, 'n_estimators': 432, 'lambda_l1': 0.0073197581844130725, 'lambda_l2': 0.023607379244977685, 'max_depth': 8, 'colsample_bytree': 0.5199671991584167, 'subsample': 0.8778500695870232, 'min_child_samples': 40}. Best is trial 40 with value: 0.9082716446733183.\n",
            "[I 2025-10-26 15:04:17,585] Trial 54 finished with value: 0.9040875442549082 and parameters: {'learning_rate': 0.019569449193867015, 'n_estimators': 400, 'lambda_l1': 0.006586840828402725, 'lambda_l2': 0.025625554027698755, 'max_depth': 13, 'colsample_bytree': 0.5905019256228501, 'subsample': 0.8942289490907227, 'min_child_samples': 42}. Best is trial 40 with value: 0.9082716446733183.\n"
          ]
        }
      ],
      "source": [
        "\n",
        "#  OPTUNA TUNING\n",
        "\n",
        "def objective(trial):\n",
        "    param = {\n",
        "        \"objective\": \"multiclass\",\n",
        "        \"metric\": \"multi_logloss\",\n",
        "        \"verbosity\": -1,\n",
        "        \"boosting_type\": \"gbdt\",\n",
        "        \"random_state\": 42,\n",
        "        \"num_class\": len(np.unique(y)),\n",
        "\n",
        "        \"learning_rate\": trial.suggest_float(\"learning_rate\", 0.01, 0.05),\n",
        "        \"n_estimators\": trial.suggest_int(\"n_estimators\", 400, 600),\n",
        "        \"lambda_l1\": trial.suggest_float(\"lambda_l1\", 0.005, 0.015),\n",
        "        \"lambda_l2\": trial.suggest_float(\"lambda_l2\", 0.02, 0.06),\n",
        "        \"max_depth\": trial.suggest_int(\"max_depth\", 6, 14),\n",
        "        \"colsample_bytree\": trial.suggest_float(\"colsample_bytree\", 0.3, 0.9),\n",
        "        \"subsample\": trial.suggest_float(\"subsample\", 0.8, 1.0),\n",
        "        \"min_child_samples\": trial.suggest_int(\"min_child_samples\", 10, 50),\n",
        "    }\n",
        "    model = LGBMClassifier(**param)\n",
        "    model.fit(X_train, y_train)\n",
        "    return model.score(X_valid, y_valid)\n",
        "\n",
        "print(\"\\n Starting Optuna hyperparameter tuning... (may take time)\")\n",
        "sampler = optuna.samplers.TPESampler(seed=42)\n",
        "study = optuna.create_study(direction=\"maximize\", sampler=sampler)\n",
        "study.optimize(objective, n_trials=100)\n",
        "\n",
        "best_params = study.best_params\n",
        "print(\"\\n Best Parameters found by Optuna:\")\n",
        "print(best_params)\n"
      ]
    },
    {
      "cell_type": "code",
      "execution_count": null,
      "metadata": {
        "id": "woPVESEurDqG"
      },
      "outputs": [],
      "source": [
        "#  Generate Submission (with decoded labels)\n",
        "\n",
        "print(\"\\n Generating final submission file...\")\n",
        "final_predictions = model.predict(test)\n",
        "\n",
        "# Decode numeric predictions back to string labels\n",
        "final_predictions_labels = target_le.inverse_transform(final_predictions)\n",
        "\n",
        "submission = pd.DataFrame({\n",
        "    \"id\": test_df[\"id\"],\n",
        "    \"WeightCategory\": final_predictions_labels\n",
        "})\n",
        "\n",
        "submission.to_csv(\"submission3.csv\", index=False)\n",
        "print(\"\\nSubmission file 'submission.csv' created successfully!\")\n",
        "print(submission.head())"
      ]
    },
    {
      "cell_type": "code",
      "execution_count": null,
      "metadata": {
        "collapsed": true,
        "id": "6xblfndKLfq3"
      },
      "outputs": [],
      "source": [
        "\n",
        "y_pred = model.predict(X_valid)\n",
        "\n",
        "#  Evaluation\n",
        "\n",
        "acc = accuracy_score(y_valid, y_pred)\n",
        "print(f\"\\n Final Hold-out Accuracy: {acc:.4f}\")\n",
        "print(\"\\nClassification Report:\")\n",
        "print(classification_report(y_valid, y_pred, target_names=target_le.classes_))\n",
        "\n",
        "# Cross-validation\n",
        "cv = StratifiedKFold(n_splits=5, shuffle=True, random_state=42)\n",
        "cv_scores = cross_val_score(model, X, y, cv=cv, scoring='accuracy')\n",
        "print(f\"\\nCross-Validation Scores: {cv_scores}\")\n",
        "print(f\"Mean CV Accuracy: {cv_scores.mean():.4f} ± {cv_scores.std():.4f}\")\n",
        "\n",
        "\n",
        "#  Confusion Matrix and Feature Importance\n",
        "\n",
        "plt.figure(figsize=(8, 6))\n",
        "sns.heatmap(confusion_matrix(y_valid, y_pred), annot=True, fmt='d', cmap='Blues')\n",
        "plt.xlabel(\"Predicted Label\")\n",
        "plt.ylabel(\"True Label\")\n",
        "plt.title(\"Confusion Matrix - LightGBM (Optuna Tuned)\")\n",
        "plt.show()\n",
        "\n",
        "plt.figure(figsize=(10, 6))\n",
        "plot_importance(final_model, max_num_features=10)\n",
        "plt.title(\"Top 10 Feature Importances - LightGBM\")\n",
        "plt.show()\n"
      ]
    },
    {
      "cell_type": "code",
      "execution_count": null,
      "metadata": {
        "collapsed": true,
        "id": "qHP4wVthjYZt"
      },
      "outputs": [],
      "source": [
        "final_model = LGBMClassifier(**best_params, n_jobs=-1)\n",
        "final_model.fit(X, y)"
      ]
    }
  ],
  "metadata": {
    "colab": {
      "provenance": [],
      "authorship_tag": "ABX9TyOliVNN1N1aEy6UQ/nALhdS",
      "include_colab_link": true
    },
    "kernelspec": {
      "display_name": "Python 3",
      "name": "python3"
    },
    "language_info": {
      "name": "python"
    }
  },
  "nbformat": 4,
  "nbformat_minor": 0
}